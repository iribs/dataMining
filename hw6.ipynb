{
 "cells": [
  {
   "cell_type": "markdown",
   "metadata": {},
   "source": [
    "# Problem 1"
   ]
  },
  {
   "cell_type": "markdown",
   "metadata": {},
   "source": [
    "A kernel function K is the form $K(x, z)=(\\psi(x)·\\psi(z))$ where x and z are two input vectors, $\\psi$ is the transformation function from the input space to the features space, and · denotes the dot product.\n",
    "\n",
    "The kernel trick means that during computation, instead of computing the dot product of the transformation of two input vectors, we can apply a kernel functions to these two input vectors so that the computation can be tractable.\n",
    "\n",
    "$K(x, z)=(<x·z>+\\theta)^{d}=(<x·z>+1)^{2}$\n",
    "\n",
    "Because K(x,z)=K(z,x), so $K(x, z)=(<x·z>+\\theta)^{d}$ is symmetric; because $(<x·z>+1)^{2}\\geq 0$, so $K(x, z)=(<x·z>+\\theta)^{d}$ is positive semi-definite. According to Mercer's theorem, $K(x, z)=(<x·z>+\\theta)^{d}$ is a kernel function."
   ]
  },
  {
   "cell_type": "markdown",
   "metadata": {},
   "source": [
    "# Problem 2"
   ]
  },
  {
   "cell_type": "markdown",
   "metadata": {},
   "source": [
    "## (1) SVM Accuracy and Cross-Validation for Model Selection"
   ]
  },
  {
   "cell_type": "code",
   "execution_count": 9,
   "metadata": {},
   "outputs": [],
   "source": [
    "from libsvm.svmutil import *\n",
    "import pandas as pd\n",
    "import numpy as np"
   ]
  },
  {
   "cell_type": "code",
   "execution_count": 3,
   "metadata": {},
   "outputs": [
    {
     "name": "stdout",
     "output_type": "stream",
     "text": [
      "DogsVsCats.test   DogsVsCats.train  hw6.ipynb\r\n"
     ]
    }
   ],
   "source": [
    "ls"
   ]
  },
  {
   "cell_type": "code",
   "execution_count": 17,
   "metadata": {},
   "outputs": [],
   "source": [
    "dftrain=pd.read_csv('DogsVsCats.train', index_col=False, header=None)\n",
    "# dftrain"
   ]
  },
  {
   "cell_type": "code",
   "execution_count": 18,
   "metadata": {},
   "outputs": [],
   "source": [
    "y, x=svm_read_problem('DogsVsCats.train')"
   ]
  },
  {
   "cell_type": "code",
   "execution_count": 4,
   "metadata": {},
   "outputs": [],
   "source": [
    "y, x=svm_read_problem('DogsVsCats.train')\n",
    "m=svm_train(y[:200], x[:200], '-c 4')"
   ]
  },
  {
   "cell_type": "code",
   "execution_count": 5,
   "metadata": {},
   "outputs": [
    {
     "name": "stdout",
     "output_type": "stream",
     "text": [
      "Accuracy = 49.187% (6050/12300) (classification)\n"
     ]
    }
   ],
   "source": [
    "p_label, p_acc, p_val = svm_predict(y[200:], x[200:], m)"
   ]
  },
  {
   "cell_type": "code",
   "execution_count": null,
   "metadata": {},
   "outputs": [],
   "source": []
  }
 ],
 "metadata": {
  "kernelspec": {
   "display_name": "Python 3",
   "language": "python",
   "name": "python3"
  },
  "language_info": {
   "codemirror_mode": {
    "name": "ipython",
    "version": 3
   },
   "file_extension": ".py",
   "mimetype": "text/x-python",
   "name": "python",
   "nbconvert_exporter": "python",
   "pygments_lexer": "ipython3",
   "version": "3.8.5"
  }
 },
 "nbformat": 4,
 "nbformat_minor": 4
}
