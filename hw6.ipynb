{
 "cells": [
  {
   "cell_type": "code",
   "execution_count": 1,
   "metadata": {},
   "outputs": [],
   "source": [
    "import pandas as pd\n",
    "import re\n",
    "import os\n",
    "from sklearn.model_selection import KFold\n",
    "from sklearn.svm import SVC\n",
    "from sklearn.metrics import accuracy_score\n",
    "import numpy as np\n",
    "from sklearn.ensemble import AdaBoostClassifier"
   ]
  },
  {
   "cell_type": "code",
   "execution_count": 3,
   "metadata": {},
   "outputs": [],
   "source": [
    "Train=''\n",
    "for line in open(\"DogsVsCats.train\"):\n",
    "    string = re.sub(' .*?:',' ', line)\n",
    "    Train = Train+(string)\n",
    "f=open('training.txt', 'w')\n",
    "f.write(Train)\n",
    "f.close()\n",
    "\n",
    "Test=''\n",
    "for line in open(\"DogsVsCats.test\"):\n",
    "    string = re.sub(' .*?:',' ', line)\n",
    "    Test = Test+(string)\n",
    "f=open('test.txt', 'w')\n",
    "f.write(Train)\n",
    "f.close()"
   ]
  },
  {
   "cell_type": "code",
   "execution_count": 6,
   "metadata": {},
   "outputs": [
    {
     "name": "stdout",
     "output_type": "stream",
     "text": [
      "0.60184\n"
     ]
    }
   ],
   "source": [
    "Train_data = pd.read_csv(\"training.txt\",sep =' ',header=None)\n",
    "Test_data = pd.read_csv(\"test.txt\",sep =' ',header=None)\n",
    "Train_data=np.array(Train_data)\n",
    "Test_data=np.array(Test_data)\n",
    "y_train = Train_data[:,0]\n",
    "x_train = Train_data[:,1:]\n",
    "y_test = Test_data[:,0]\n",
    "x_test = Test_data[:,1:]\n",
    "\n",
    "ada=AdaBoostClassifier(n_estimators=10, base_estimator=SVC(kernel='poly',degree = 5,probability=True))\n",
    "ada.fit(x_train,y_train)\n",
    "y_pre = ada.predict(x_test)\n",
    "print(accuracy_score(y_test,y_pre))"
   ]
  },
  {
   "cell_type": "code",
   "execution_count": null,
   "metadata": {},
   "outputs": [],
   "source": []
  }
 ],
 "metadata": {
  "kernelspec": {
   "display_name": "Python 3",
   "language": "python",
   "name": "python3"
  },
  "language_info": {
   "codemirror_mode": {
    "name": "ipython",
    "version": 3
   },
   "file_extension": ".py",
   "mimetype": "text/x-python",
   "name": "python",
   "nbconvert_exporter": "python",
   "pygments_lexer": "ipython3",
   "version": "3.8.5"
  }
 },
 "nbformat": 4,
 "nbformat_minor": 4
}
